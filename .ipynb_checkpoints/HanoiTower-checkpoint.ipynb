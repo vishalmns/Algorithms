{
 "cells": [
  {
   "cell_type": "markdown",
   "metadata": {},
   "source": [
    "Day:1 Hanoi Tower\n",
    "https://medium.com/100-days-of-algorithms/day-1-hanoi-tower-94871efb7df3"
   ]
  },
  {
   "cell_type": "code",
   "execution_count": 9,
   "metadata": {},
   "outputs": [],
   "source": [
    "def hanoi_tower(size,initial,buffer,final):\n",
    "    if size > 0 :\n",
    "        hanoi_tower(size - 1,initial, final, buffer)\n",
    "        print(\"blocked moved from\",initial,\"to\",final)\n",
    "        hanoi_tower(size -1,buffer,initial,final)"
   ]
  },
  {
   "cell_type": "code",
   "execution_count": 10,
   "metadata": {},
   "outputs": [
    {
     "name": "stdout",
     "output_type": "stream",
     "text": [
      "blocked moved from 1 to 3\n"
     ]
    }
   ],
   "source": [
    "hanoi_tower(1,1,2,3)\n"
   ]
  },
  {
   "cell_type": "code",
   "execution_count": 11,
   "metadata": {},
   "outputs": [
    {
     "name": "stdout",
     "output_type": "stream",
     "text": [
      "blocked moved from 1 to 2\n",
      "blocked moved from 1 to 3\n",
      "blocked moved from 2 to 3\n"
     ]
    }
   ],
   "source": [
    "hanoi_tower(2,1,2,3)"
   ]
  },
  {
   "cell_type": "code",
   "execution_count": 13,
   "metadata": {},
   "outputs": [
    {
     "name": "stdout",
     "output_type": "stream",
     "text": [
      "blocked moved from 1 to 3\n",
      "blocked moved from 1 to 2\n",
      "blocked moved from 3 to 2\n",
      "blocked moved from 1 to 3\n",
      "blocked moved from 2 to 1\n",
      "blocked moved from 2 to 3\n",
      "blocked moved from 1 to 3\n"
     ]
    }
   ],
   "source": [
    "hanoi_tower(3,1,2,3)"
   ]
  },
  {
   "cell_type": "code",
   "execution_count": null,
   "metadata": {},
   "outputs": [],
   "source": []
  },
  {
   "cell_type": "code",
   "execution_count": null,
   "metadata": {},
   "outputs": [],
   "source": []
  }
 ],
 "metadata": {
  "kernelspec": {
   "display_name": "Python 3",
   "language": "python",
   "name": "python3"
  },
  "language_info": {
   "codemirror_mode": {
    "name": "ipython",
    "version": 3
   },
   "file_extension": ".py",
   "mimetype": "text/x-python",
   "name": "python",
   "nbconvert_exporter": "python",
   "pygments_lexer": "ipython3",
   "version": "3.6.4"
  }
 },
 "nbformat": 4,
 "nbformat_minor": 2
}
